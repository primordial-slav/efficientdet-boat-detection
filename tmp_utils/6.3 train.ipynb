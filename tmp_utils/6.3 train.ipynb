{
 "cells": [
  {
   "cell_type": "code",
   "execution_count": 1,
   "id": "078476c3",
   "metadata": {},
   "outputs": [],
   "source": [
    "import os\n",
    "os.environ['CUDA_VISIBLE_DEVICES']=\"0\""
   ]
  },
  {
   "cell_type": "code",
   "execution_count": 2,
   "id": "3a608eab",
   "metadata": {},
   "outputs": [
    {
     "name": "stderr",
     "output_type": "stream",
     "text": [
      "2022-03-10 12:29:30.713802: I tensorflow/stream_executor/cuda/cuda_gpu_executor.cc:937] successful NUMA node read from SysFS had negative value (-1), but there must be at least one NUMA node, so returning NUMA node zero\n",
      "2022-03-10 12:29:30.720932: I tensorflow/stream_executor/cuda/cuda_gpu_executor.cc:937] successful NUMA node read from SysFS had negative value (-1), but there must be at least one NUMA node, so returning NUMA node zero\n",
      "2022-03-10 12:29:30.721539: I tensorflow/stream_executor/cuda/cuda_gpu_executor.cc:937] successful NUMA node read from SysFS had negative value (-1), but there must be at least one NUMA node, so returning NUMA node zero\n"
     ]
    }
   ],
   "source": [
    "import tensorflow as tf\n",
    "gpus = tf.config.list_physical_devices('GPU')\n",
    "gpus[0]\n",
    "tf.config.experimental.set_memory_growth(gpus[0], True)"
   ]
  },
  {
   "cell_type": "code",
   "execution_count": 3,
   "id": "9f159007",
   "metadata": {},
   "outputs": [],
   "source": [
    "import os\n",
    "import platform\n",
    "from absl import app\n",
    "from absl import flags\n",
    "from absl import logging\n",
    "#import tensorflow as tf\n",
    "\n",
    "import dataloader\n",
    "import hparams_config\n",
    "import utils\n",
    "from tf2 import train_lib\n",
    "from tf2 import util_keras"
   ]
  },
  {
   "cell_type": "code",
   "execution_count": 4,
   "id": "ddb65e58",
   "metadata": {},
   "outputs": [],
   "source": [
    "import json\n",
    "\n",
    "#train_json = json.load(\"_logs/json_.json\")\n",
    "#val_json = json.load(\"_logs/val_json_.json\")"
   ]
  },
  {
   "cell_type": "code",
   "execution_count": null,
   "id": "e55d80b0",
   "metadata": {},
   "outputs": [],
   "source": []
  },
  {
   "cell_type": "code",
   "execution_count": null,
   "id": "c9a6d6c2",
   "metadata": {},
   "outputs": [],
   "source": []
  },
  {
   "cell_type": "code",
   "execution_count": 5,
   "id": "a096075a",
   "metadata": {},
   "outputs": [],
   "source": [
    "#flags.FLAGS._parse_flags(args=args)\n",
    "model_name = 'efficientdet-d2'"
   ]
  },
  {
   "cell_type": "code",
   "execution_count": 6,
   "id": "e60bfcfb",
   "metadata": {},
   "outputs": [],
   "source": [
    "config = hparams_config.get_detection_config(model_name)\n",
    "\n",
    "config.num_epochs = 300\n",
    "config.batch_size = 4\n",
    "#config.batch = 2\n",
    "config.moving_average_decay = None\n",
    "config.image_size = (768,768)\n",
    "config.model_dir = '/host/04 - Plovila Detection/data/01 active - open images data and labels'\n",
    "config.log_dir = '_logs'\n",
    "config.val_json_file = None\n",
    "config.steps_per_execution = 1\n",
    "config.max_instances_per_image = 200\n",
    "config.strategy = 'gpus'\n",
    "\n",
    "## TODO: AUTOMATIC NUM SAMPLES CALC\n",
    "config.steps_per_epoch = 21648//config.batch_size\n",
    "config.num_classes = 1\n",
    "validation_steps = 3821//config.batch_size"
   ]
  },
  {
   "cell_type": "code",
   "execution_count": 7,
   "id": "9b6976c8",
   "metadata": {},
   "outputs": [],
   "source": [
    "#train_file_pattern=\"_logs/tfrecords/train-*.tfrecord\"\n",
    "#val_file_pattern=\"_logs/tfrecords/val-*.tfrecord\""
   ]
  },
  {
   "cell_type": "code",
   "execution_count": 8,
   "id": "b3697dfe",
   "metadata": {},
   "outputs": [
    {
     "name": "stderr",
     "output_type": "stream",
     "text": [
      "2022-03-10 12:29:31.396664: I tensorflow/core/platform/cpu_feature_guard.cc:142] This TensorFlow binary is optimized with oneAPI Deep Neural Network Library (oneDNN) to use the following CPU instructions in performance-critical operations:  AVX2 FMA\n",
      "To enable them in other operations, rebuild TensorFlow with the appropriate compiler flags.\n",
      "2022-03-10 12:29:31.397129: I tensorflow/stream_executor/cuda/cuda_gpu_executor.cc:937] successful NUMA node read from SysFS had negative value (-1), but there must be at least one NUMA node, so returning NUMA node zero\n",
      "2022-03-10 12:29:31.397752: I tensorflow/stream_executor/cuda/cuda_gpu_executor.cc:937] successful NUMA node read from SysFS had negative value (-1), but there must be at least one NUMA node, so returning NUMA node zero\n",
      "2022-03-10 12:29:31.398205: I tensorflow/stream_executor/cuda/cuda_gpu_executor.cc:937] successful NUMA node read from SysFS had negative value (-1), but there must be at least one NUMA node, so returning NUMA node zero\n",
      "2022-03-10 12:29:31.794550: I tensorflow/stream_executor/cuda/cuda_gpu_executor.cc:937] successful NUMA node read from SysFS had negative value (-1), but there must be at least one NUMA node, so returning NUMA node zero\n",
      "2022-03-10 12:29:31.794899: I tensorflow/stream_executor/cuda/cuda_gpu_executor.cc:937] successful NUMA node read from SysFS had negative value (-1), but there must be at least one NUMA node, so returning NUMA node zero\n",
      "2022-03-10 12:29:31.795211: I tensorflow/stream_executor/cuda/cuda_gpu_executor.cc:937] successful NUMA node read from SysFS had negative value (-1), but there must be at least one NUMA node, so returning NUMA node zero\n",
      "2022-03-10 12:29:31.795506: I tensorflow/core/common_runtime/gpu/gpu_device.cc:1510] Created device /job:localhost/replica:0/task:0/device:GPU:0 with 8222 MB memory:  -> device: 0, name: NVIDIA GeForce GTX 1080 Ti, pci bus id: 0000:02:00.0, compute capability: 6.1\n"
     ]
    }
   ],
   "source": [
    "use_fake_data = False\n",
    "debug = False\n",
    "\n",
    "ds_strategy = tf.distribute.OneDeviceStrategy('device:GPU:0')\n"
   ]
  },
  {
   "cell_type": "code",
   "execution_count": 9,
   "id": "1d6df603",
   "metadata": {},
   "outputs": [],
   "source": [
    "def get_dataset(is_training, config):\n",
    "    file_pattern = (\n",
    "        \"_logs/tfrecords/train-*.tfrecord\"\n",
    "        if is_training else \"_logs/tfrecords/val-*.tfrecord\")\n",
    "    if not file_pattern:\n",
    "      raise ValueError('No matching files.')\n",
    "\n",
    "    return dataloader.InputReader(\n",
    "        file_pattern,\n",
    "        is_training=is_training,\n",
    "        use_fake_data=use_fake_data,\n",
    "        max_instances_per_image=config.max_instances_per_image,\n",
    "        debug=debug)(config.as_dict())"
   ]
  },
  {
   "cell_type": "code",
   "execution_count": 10,
   "id": "88807167",
   "metadata": {},
   "outputs": [],
   "source": [
    "train_dataset = get_dataset(True, config)"
   ]
  },
  {
   "cell_type": "code",
   "execution_count": 11,
   "id": "48b0c87d",
   "metadata": {},
   "outputs": [
    {
     "data": {
      "text/plain": [
       "<RepeatDataset shapes: ((4, 768, 768, 3), {mean_num_positives: (4, 1), cls_targets_3: (4, 96, 96, 9), box_targets_3: (4, 96, 96, 36), cls_targets_4: (4, 48, 48, 9), box_targets_4: (4, 48, 48, 36), cls_targets_5: (4, 24, 24, 9), box_targets_5: (4, 24, 24, 36), cls_targets_6: (4, 12, 12, 9), box_targets_6: (4, 12, 12, 36), cls_targets_7: (4, 6, 6, 9), box_targets_7: (4, 6, 6, 36), source_ids: (4,), groundtruth_data: (4, 200, 7), image_scales: (4,), image_masks: (4, 0)}), types: (tf.float32, {mean_num_positives: tf.float32, cls_targets_3: tf.int32, box_targets_3: tf.float32, cls_targets_4: tf.int32, box_targets_4: tf.float32, cls_targets_5: tf.int32, box_targets_5: tf.float32, cls_targets_6: tf.int32, box_targets_6: tf.float32, cls_targets_7: tf.int32, box_targets_7: tf.float32, source_ids: tf.float32, groundtruth_data: tf.float32, image_scales: tf.float32, image_masks: tf.float32})>"
      ]
     },
     "execution_count": 11,
     "metadata": {},
     "output_type": "execute_result"
    }
   ],
   "source": [
    "train_dataset"
   ]
  },
  {
   "cell_type": "code",
   "execution_count": 12,
   "id": "569943ea",
   "metadata": {},
   "outputs": [],
   "source": [
    "val_dataset = get_dataset(False, config) "
   ]
  },
  {
   "cell_type": "code",
   "execution_count": 13,
   "id": "bc4abe9a",
   "metadata": {},
   "outputs": [
    {
     "data": {
      "text/plain": [
       "<PrefetchDataset shapes: ((4, 768, 768, 3), {mean_num_positives: (4, 1), cls_targets_3: (4, 96, 96, 9), box_targets_3: (4, 96, 96, 36), cls_targets_4: (4, 48, 48, 9), box_targets_4: (4, 48, 48, 36), cls_targets_5: (4, 24, 24, 9), box_targets_5: (4, 24, 24, 36), cls_targets_6: (4, 12, 12, 9), box_targets_6: (4, 12, 12, 36), cls_targets_7: (4, 6, 6, 9), box_targets_7: (4, 6, 6, 36), source_ids: (4,), groundtruth_data: (4, 200, 7), image_scales: (4,), image_masks: (4, 0)}), types: (tf.float32, {mean_num_positives: tf.float32, cls_targets_3: tf.int32, box_targets_3: tf.float32, cls_targets_4: tf.int32, box_targets_4: tf.float32, cls_targets_5: tf.int32, box_targets_5: tf.float32, cls_targets_6: tf.int32, box_targets_6: tf.float32, cls_targets_7: tf.int32, box_targets_7: tf.float32, source_ids: tf.float32, groundtruth_data: tf.float32, image_scales: tf.float32, image_masks: tf.float32})>"
      ]
     },
     "execution_count": 13,
     "metadata": {},
     "output_type": "execute_result"
    }
   ],
   "source": [
    "val_dataset"
   ]
  },
  {
   "cell_type": "code",
   "execution_count": 14,
   "id": "2c1f10b1",
   "metadata": {},
   "outputs": [],
   "source": [
    "def init_experimental(config):\n",
    "  \"\"\"Serialize train config to model directory.\"\"\"\n",
    "  tf.io.gfile.makedirs(config.log_dir)\n",
    "  config_file = os.path.join(config.model_dir, 'config.yaml')\n",
    "  if not tf.io.gfile.exists(config_file):\n",
    "    tf.io.gfile.GFile(config_file, 'w').write(str(config))"
   ]
  },
  {
   "cell_type": "code",
   "execution_count": 15,
   "id": "d4a057d8",
   "metadata": {},
   "outputs": [],
   "source": [
    "def setup_model(model, config):\n",
    "  \"\"\"Build and compile model.\"\"\"\n",
    "  model.build((None, *config.image_size, 3))\n",
    "  model.compile(\n",
    "      steps_per_execution=config.steps_per_execution,\n",
    "      optimizer=train_lib.get_optimizer(config.as_dict()),\n",
    "      loss={\n",
    "          train_lib.BoxLoss.__name__:\n",
    "              train_lib.BoxLoss(\n",
    "                  config.delta, reduction=tf.keras.losses.Reduction.NONE),\n",
    "          train_lib.BoxIouLoss.__name__:\n",
    "              train_lib.BoxIouLoss(\n",
    "                  config.iou_loss_type,\n",
    "                  config.min_level,\n",
    "                  config.max_level,\n",
    "                  config.num_scales,\n",
    "                  config.aspect_ratios,\n",
    "                  config.anchor_scale,\n",
    "                  config.image_size,\n",
    "                  reduction=tf.keras.losses.Reduction.NONE),\n",
    "          train_lib.FocalLoss.__name__:\n",
    "              train_lib.FocalLoss(\n",
    "                  config.alpha,\n",
    "                  config.gamma,\n",
    "                  label_smoothing=config.label_smoothing,\n",
    "                  reduction=tf.keras.losses.Reduction.NONE),\n",
    "          tf.keras.losses.SparseCategoricalCrossentropy.__name__:\n",
    "              tf.keras.losses.SparseCategoricalCrossentropy(\n",
    "                  from_logits=True, reduction=tf.keras.losses.Reduction.NONE)\n",
    "      })\n",
    "  return model"
   ]
  },
  {
   "cell_type": "code",
   "execution_count": null,
   "id": "081076b0",
   "metadata": {},
   "outputs": [],
   "source": [
    "# set mixed precision policy by keras api.\n",
    "precision = utils.get_precision(config.strategy, config.mixed_precision)\n",
    "policy = tf.keras.mixed_precision.Policy(precision)\n",
    "tf.keras.mixed_precision.set_global_policy(policy)"
   ]
  },
  {
   "cell_type": "code",
   "execution_count": null,
   "id": "7466195f",
   "metadata": {},
   "outputs": [],
   "source": [
    "with ds_strategy.scope():\n",
    "  \n",
    "  #Load and compile model\n",
    "  model = train_lib.EfficientDetNetTrain(config=config)\n",
    "  model.layers[0].trainable = False\n",
    "  model = setup_model(model, config)\n",
    "  \n",
    "  #Load checkpoints if they exist\n",
    "  if tf.train.latest_checkpoint(config.log_dir):\n",
    "    ckpt_path = tf.train.latest_checkpoint(config.log_dir)\n",
    "    util_keras.restore_ckpt(model,\n",
    "                            ckpt_path,\n",
    "                            config.moving_average_decay)\n",
    "  init_experimental(config)\n",
    "  \n",
    "  #Train model\n",
    "  model.fit(train_dataset,\n",
    "          epochs=config.num_epochs,\n",
    "          steps_per_epoch=config.steps_per_epoch,\n",
    "          initial_epoch=model.optimizer.iterations.numpy() // config.steps_per_epoch,\n",
    "          callbacks=train_lib.get_callbacks(config.as_dict(), val_dataset),\n",
    "          validation_data=val_dataset,\n",
    "          validation_steps=validation_steps)"
   ]
  },
  {
   "cell_type": "code",
   "execution_count": null,
   "id": "1f4e7fef",
   "metadata": {},
   "outputs": [],
   "source": [
    "dir(val_dataset)"
   ]
  },
  {
   "cell_type": "code",
   "execution_count": 16,
   "id": "5063bdf9",
   "metadata": {},
   "outputs": [],
   "source": [
    "import matplotlib.pyplot as plt\n",
    "from visualize.vis_utils import draw_bounding_boxes_on_image_tensors"
   ]
  },
  {
   "cell_type": "code",
   "execution_count": 17,
   "id": "96e900cb",
   "metadata": {},
   "outputs": [],
   "source": [
    "import numpy as np\n",
    "import cv2"
   ]
  },
  {
   "cell_type": "code",
   "execution_count": 35,
   "id": "af24ec3c",
   "metadata": {},
   "outputs": [],
   "source": [
    "cls = {1: {1: 'Boat','name': 'Boat'}}\n"
   ]
  },
  {
   "cell_type": "code",
   "execution_count": 37,
   "id": "ed68c15b",
   "metadata": {
    "scrolled": false
   },
   "outputs": [
    {
     "name": "stdout",
     "output_type": "stream",
     "text": [
      "<dtype: 'float32'>\n",
      "(4, 200, 7)\n",
      "(4, 768, 768, 3) (4, 200, 4) (4, 200) (4, 200)\n"
     ]
    }
   ],
   "source": [
    "for images,labels in val_dataset.take(1):\n",
    "  \n",
    "    print(images.shape)\n",
    "    print(labels['groundtruth_data'][:].shape)\n",
    "    boxes = np.uint8(labels['groundtruth_data'][:,:,:4].numpy())\n",
    "    confidence = labels['groundtruth_data'][:,:,5].numpy()\n",
    "    \n",
    "    classes = labels['groundtruth_data'][:,:,6].numpy()\n",
    "    print(images.shape,boxes.shape,confidence.shape,classes.shape)\n",
    "\n",
    "    break"
   ]
  },
  {
   "cell_type": "code",
   "execution_count": null,
   "id": "d1ec52a1",
   "metadata": {},
   "outputs": [],
   "source": [
    "print(labels.keys())"
   ]
  },
  {
   "cell_type": "code",
   "execution_count": null,
   "id": "9f9250cf",
   "metadata": {},
   "outputs": [],
   "source": [
    "print(labels['image_scales'])"
   ]
  },
  {
   "cell_type": "code",
   "execution_count": null,
   "id": "95927f6a",
   "metadata": {
    "scrolled": true
   },
   "outputs": [],
   "source": []
  },
  {
   "cell_type": "code",
   "execution_count": null,
   "id": "f7b88b0f",
   "metadata": {},
   "outputs": [],
   "source": [
    "#dir(model.layers[3].cells[1])"
   ]
  },
  {
   "cell_type": "code",
   "execution_count": null,
   "id": "80ac5f7b",
   "metadata": {},
   "outputs": [],
   "source": [
    "#dir(model.layers[3].cells[1].fnodes[0])"
   ]
  },
  {
   "cell_type": "code",
   "execution_count": null,
   "id": "2199b591",
   "metadata": {},
   "outputs": [],
   "source": [
    "config.as_dict().get('map_freq', None)"
   ]
  },
  {
   "cell_type": "code",
   "execution_count": null,
   "id": "42ca1b53",
   "metadata": {},
   "outputs": [],
   "source": [
    "config.as_dict().get('moving_average_decay', None)"
   ]
  },
  {
   "cell_type": "code",
   "execution_count": null,
   "id": "6a1a83ca",
   "metadata": {},
   "outputs": [],
   "source": [
    "model.summary()"
   ]
  },
  {
   "cell_type": "code",
   "execution_count": null,
   "id": "9aeb2148",
   "metadata": {},
   "outputs": [],
   "source": [
    "if None:\n",
    "  print('g')\n",
    "else:\n",
    "  print('b')"
   ]
  },
  {
   "cell_type": "code",
   "execution_count": null,
   "id": "79df6ed0",
   "metadata": {},
   "outputs": [],
   "source": []
  }
 ],
 "metadata": {
  "kernelspec": {
   "display_name": "Python 3 (ipykernel)",
   "language": "python",
   "name": "python3"
  },
  "language_info": {
   "codemirror_mode": {
    "name": "ipython",
    "version": 3
   },
   "file_extension": ".py",
   "mimetype": "text/x-python",
   "name": "python",
   "nbconvert_exporter": "python",
   "pygments_lexer": "ipython3",
   "version": "3.8.10"
  }
 },
 "nbformat": 4,
 "nbformat_minor": 5
}
