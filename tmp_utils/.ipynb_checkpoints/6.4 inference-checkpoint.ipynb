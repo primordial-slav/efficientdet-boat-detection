{
 "cells": [
  {
   "cell_type": "code",
   "execution_count": 1,
   "id": "217764c9",
   "metadata": {},
   "outputs": [],
   "source": [
    "# Copyright 2020 Google Research. All Rights Reserved.\n",
    "#\n",
    "# Licensed under the Apache License, Version 2.0 (the \"License\");\n",
    "# you may not use this file except in compliance with the License.\n",
    "# You may obtain a copy of the License at\n",
    "#\n",
    "#     http://www.apache.org/licenses/LICENSE-2.0\n",
    "#\n",
    "# Unless required by applicable law or agreed to in writing, software\n",
    "# distributed under the License is distributed on an \"AS IS\" BASIS,\n",
    "# WITHOUT WARRANTIES OR CONDITIONS OF ANY KIND, either express or implied.\n",
    "# See the License for the specific language governing permissions and\n",
    "# limitations under the License.\n",
    "# ==============================================================================\n",
    "\"\"\"A simple example on how to use keras model for inference.\"\"\"\n",
    "import os\n",
    "from absl import app\n",
    "from absl import flags\n",
    "from absl import logging\n",
    "import numpy as np\n",
    "from PIL import Image\n",
    "import tensorflow as tf"
   ]
  },
  {
   "cell_type": "code",
   "execution_count": 2,
   "id": "3de634f7",
   "metadata": {},
   "outputs": [],
   "source": [
    "import hparams_config\n",
    "import inference\n",
    "from tf2 import efficientdet_keras"
   ]
  },
  {
   "cell_type": "code",
   "execution_count": 3,
   "id": "cd5164b4",
   "metadata": {},
   "outputs": [],
   "source": [
    "model_name = 'efficientdet-d2'\n",
    "config = hparams_config.get_efficientdet_config(model_name)"
   ]
  },
  {
   "cell_type": "code",
   "execution_count": null,
   "id": "3a8e62cc",
   "metadata": {},
   "outputs": [],
   "source": []
  },
  {
   "cell_type": "code",
   "execution_count": 4,
   "id": "3a683ce3",
   "metadata": {},
   "outputs": [],
   "source": [
    "config.image_path = 'examples/undetected/example.jpg'\n",
    "config.output_dir = 'examples/detected'\n",
    "config.model_dir = '_logs'\n",
    "config.debug = False\n",
    "config.saved_model_dir = '_logs/models'\n",
    "config.num_classes = 1\n",
    "config.val_json_file = None\n",
    "config.steps_per_execution = 1\n",
    "config.max_instances_per_image = 200\n",
    "config.strategy = 'gpus'\n",
    "config.num_epochs = 300\n",
    "config.batch_size = 4\n",
    "#config.batch = 2\n",
    "config.moving_average_decay = None"
   ]
  },
  {
   "cell_type": "code",
   "execution_count": 5,
   "id": "b1b4ba84",
   "metadata": {},
   "outputs": [
    {
     "ename": "TypeError",
     "evalue": "unsupported operand type(s) for //: 'Image' and 'int'",
     "output_type": "error",
     "traceback": [
      "\u001b[0;31m---------------------------------------------------------------------------\u001b[0m",
      "\u001b[0;31mTypeError\u001b[0m                                 Traceback (most recent call last)",
      "\u001b[0;32m/tmp/ipykernel_6116/4040436889.py\u001b[0m in \u001b[0;36m<module>\u001b[0;34m\u001b[0m\n\u001b[1;32m      3\u001b[0m \u001b[0mim\u001b[0m \u001b[0;34m=\u001b[0m \u001b[0mImage\u001b[0m\u001b[0;34m.\u001b[0m\u001b[0mopen\u001b[0m\u001b[0;34m(\u001b[0m\u001b[0mconfig\u001b[0m\u001b[0;34m.\u001b[0m\u001b[0mimage_path\u001b[0m\u001b[0;34m)\u001b[0m\u001b[0;34m\u001b[0m\u001b[0;34m\u001b[0m\u001b[0m\n\u001b[1;32m      4\u001b[0m \u001b[0mim\u001b[0m \u001b[0;34m=\u001b[0m \u001b[0mim\u001b[0m\u001b[0;34m.\u001b[0m\u001b[0mresize\u001b[0m\u001b[0;34m(\u001b[0m\u001b[0;34m(\u001b[0m\u001b[0;36m768\u001b[0m\u001b[0;34m,\u001b[0m\u001b[0;36m768\u001b[0m\u001b[0;34m)\u001b[0m\u001b[0;34m,\u001b[0m \u001b[0mImage\u001b[0m\u001b[0;34m.\u001b[0m\u001b[0mANTIALIAS\u001b[0m\u001b[0;34m)\u001b[0m\u001b[0;34m\u001b[0m\u001b[0;34m\u001b[0m\u001b[0m\n\u001b[0;32m----> 5\u001b[0;31m \u001b[0mim\u001b[0m \u001b[0;34m=\u001b[0m \u001b[0mim\u001b[0m\u001b[0;34m//\u001b[0m\u001b[0;36m255\u001b[0m\u001b[0;34m\u001b[0m\u001b[0;34m\u001b[0m\u001b[0m\n\u001b[0m\u001b[1;32m      6\u001b[0m \u001b[0mimgs\u001b[0m \u001b[0;34m=\u001b[0m \u001b[0;34m[\u001b[0m\u001b[0mnp\u001b[0m\u001b[0;34m.\u001b[0m\u001b[0marray\u001b[0m\u001b[0;34m(\u001b[0m\u001b[0mim\u001b[0m\u001b[0;34m)\u001b[0m\u001b[0;34m]\u001b[0m\u001b[0;34m\u001b[0m\u001b[0;34m\u001b[0m\u001b[0m\n\u001b[1;32m      7\u001b[0m \u001b[0;31m# Create model config.\u001b[0m\u001b[0;34m\u001b[0m\u001b[0;34m\u001b[0m\u001b[0;34m\u001b[0m\u001b[0m\n",
      "\u001b[0;31mTypeError\u001b[0m: unsupported operand type(s) for //: 'Image' and 'int'"
     ]
    }
   ],
   "source": [
    "# pylint: disable=line-too-long\n",
    "# Prepare images and checkpoints: please run these commands in shell.\n",
    "im = Image.open(config.image_path)\n",
    "im = im.resize((768,768), Image.ANTIALIAS)\n",
    "im = np.array(im)\n",
    "im = im//255\n",
    "imgs = [im)]\n",
    "# Create model config.\n",
    "config.is_training_bn = True\n",
    "config.image_size = (768,768)\n",
    "config.nms_configs.score_thresh = 0.4\n",
    "config.nms_configs.max_output_size = 100\n",
    "#config.override(hparams)\n",
    "\n",
    "# Use 'mixed_float16' if running on GPUs.\n",
    "policy = tf.keras.mixed_precision.Policy('float32')\n",
    "tf.keras.mixed_precision.set_global_policy(policy)\n",
    "tf.config.run_functions_eagerly(config.debug)\n",
    "\n",
    "# Create and run the model.\n",
    "model = efficientdet_keras.EfficientDetModel(config=config)\n",
    "model.build((None, None, None, 3))\n",
    "ckpt = tf.train.latest_checkpoint(config.model_dir)\n",
    "model.load_weights(ckpt)\n",
    "model.summary()"
   ]
  },
  {
   "cell_type": "code",
   "execution_count": null,
   "id": "84b61c1e",
   "metadata": {},
   "outputs": [],
   "source": [
    "class ExportModel(tf.Module):\n",
    "\n",
    "  def __init__(self, model):\n",
    "    super().__init__()\n",
    "    self.model = model\n",
    "\n",
    "  @tf.function\n",
    "  def f(self, imgs):\n",
    "    return self.model(imgs, training=False, post_mode='global')\n",
    "\n",
    "imgs = tf.convert_to_tensor(imgs, dtype=tf.uint8)\n",
    "export_model = ExportModel(model)\n",
    "if config.saved_model_dir:\n",
    "  tf.saved_model.save(\n",
    "      export_model,\n",
    "      config.saved_model_dir,\n",
    "      signatures=export_model.f.get_concrete_function(\n",
    "          tf.TensorSpec(shape=(None, None, None, 3), dtype=tf.uint8)))\n",
    "  export_model = tf.saved_model.load(config.saved_model_dir)"
   ]
  },
  {
   "cell_type": "code",
   "execution_count": null,
   "id": "9db652ce",
   "metadata": {},
   "outputs": [],
   "source": [
    "boxes, scores, classes, valid_len = export_model.f(imgs)\n",
    "\n",
    "# Visualize results.\n",
    "for i, img in enumerate(imgs):\n",
    "  length = valid_len[i]\n",
    "  img = inference.visualize_image(\n",
    "      img,\n",
    "      boxes[i].numpy()[:length],\n",
    "      classes[i].numpy().astype(np.int)[:length],\n",
    "      scores[i].numpy()[:length],\n",
    "      label_map=config.label_map,\n",
    "      min_score_thresh=config.nms_configs.score_thresh,\n",
    "      max_boxes_to_draw=config.nms_configs.max_output_size)\n",
    "  output_image_path = os.path.join(config.output_dir, str(i) + '.jpg')\n",
    "  Image.fromarray(img).save(output_image_path)\n",
    "  print('writing annotated image to %s' % output_image_path)"
   ]
  },
  {
   "cell_type": "code",
   "execution_count": null,
   "id": "dc1a64bc",
   "metadata": {},
   "outputs": [],
   "source": [
    "scores"
   ]
  },
  {
   "cell_type": "code",
   "execution_count": null,
   "id": "135f06a1",
   "metadata": {},
   "outputs": [],
   "source": [
    "classes"
   ]
  },
  {
   "cell_type": "code",
   "execution_count": null,
   "id": "4f4f9c58",
   "metadata": {},
   "outputs": [],
   "source": [
    "config.num_classes"
   ]
  },
  {
   "cell_type": "code",
   "execution_count": null,
   "id": "46c5b55c",
   "metadata": {},
   "outputs": [],
   "source": [
    "img.shape"
   ]
  },
  {
   "cell_type": "code",
   "execution_count": null,
   "id": "9c532c72",
   "metadata": {},
   "outputs": [],
   "source": [
    "boxes"
   ]
  },
  {
   "cell_type": "code",
   "execution_count": null,
   "id": "dc38717a",
   "metadata": {},
   "outputs": [],
   "source": [
    "np.array(im)"
   ]
  },
  {
   "cell_type": "code",
   "execution_count": null,
   "id": "2f6df71d",
   "metadata": {},
   "outputs": [],
   "source": []
  }
 ],
 "metadata": {
  "kernelspec": {
   "display_name": "Python 3 (ipykernel)",
   "language": "python",
   "name": "python3"
  },
  "language_info": {
   "codemirror_mode": {
    "name": "ipython",
    "version": 3
   },
   "file_extension": ".py",
   "mimetype": "text/x-python",
   "name": "python",
   "nbconvert_exporter": "python",
   "pygments_lexer": "ipython3",
   "version": "3.8.10"
  }
 },
 "nbformat": 4,
 "nbformat_minor": 5
}
