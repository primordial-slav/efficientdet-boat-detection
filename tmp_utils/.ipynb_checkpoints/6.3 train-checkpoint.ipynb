{
 "cells": [
  {
   "cell_type": "code",
   "execution_count": 1,
   "id": "078476c3",
   "metadata": {},
   "outputs": [],
   "source": [
    "import os\n",
    "os.environ['CUDA_VISIBLE_DEVICES']=\"0\""
   ]
  },
  {
   "cell_type": "code",
   "execution_count": 2,
   "id": "3a608eab",
   "metadata": {},
   "outputs": [
    {
     "name": "stderr",
     "output_type": "stream",
     "text": [
      "2022-03-09 09:14:46.462440: I tensorflow/stream_executor/cuda/cuda_gpu_executor.cc:937] successful NUMA node read from SysFS had negative value (-1), but there must be at least one NUMA node, so returning NUMA node zero\n",
      "2022-03-09 09:14:46.530230: I tensorflow/stream_executor/cuda/cuda_gpu_executor.cc:937] successful NUMA node read from SysFS had negative value (-1), but there must be at least one NUMA node, so returning NUMA node zero\n",
      "2022-03-09 09:14:46.531922: I tensorflow/stream_executor/cuda/cuda_gpu_executor.cc:937] successful NUMA node read from SysFS had negative value (-1), but there must be at least one NUMA node, so returning NUMA node zero\n"
     ]
    }
   ],
   "source": [
    "import tensorflow as tf\n",
    "gpus = tf.config.list_physical_devices('GPU')\n",
    "gpus[0]\n",
    "tf.config.experimental.set_memory_growth(gpus[0], True)"
   ]
  },
  {
   "cell_type": "code",
   "execution_count": 3,
   "id": "9f159007",
   "metadata": {},
   "outputs": [],
   "source": [
    "import os\n",
    "import platform\n",
    "from absl import app\n",
    "from absl import flags\n",
    "from absl import logging\n",
    "#import tensorflow as tf\n",
    "\n",
    "import dataloader\n",
    "import hparams_config\n",
    "import utils\n",
    "from tf2 import train_lib\n",
    "from tf2 import util_keras"
   ]
  },
  {
   "cell_type": "code",
   "execution_count": 4,
   "id": "ddb65e58",
   "metadata": {},
   "outputs": [],
   "source": [
    "import json\n",
    "\n",
    "#train_json = json.load(\"_logs/json_.json\")\n",
    "#val_json = json.load(\"_logs/val_json_.json\")"
   ]
  },
  {
   "cell_type": "code",
   "execution_count": null,
   "id": "e55d80b0",
   "metadata": {},
   "outputs": [],
   "source": []
  },
  {
   "cell_type": "code",
   "execution_count": null,
   "id": "c9a6d6c2",
   "metadata": {},
   "outputs": [],
   "source": []
  },
  {
   "cell_type": "code",
   "execution_count": 5,
   "id": "a096075a",
   "metadata": {},
   "outputs": [],
   "source": [
    "#flags.FLAGS._parse_flags(args=args)\n",
    "model_name = 'efficientdet-d2'"
   ]
  },
  {
   "cell_type": "code",
   "execution_count": 6,
   "id": "e60bfcfb",
   "metadata": {},
   "outputs": [],
   "source": [
    "config = hparams_config.get_detection_config(model_name)\n",
    "\n",
    "config.num_epochs = 300\n",
    "config.batch_size = 4\n",
    "#config.batch = 2\n",
    "config.moving_average_decay = None\n",
    "config.image_size = (768,768)\n",
    "config.model_dir = '/host/04 - Plovila Detection/data/01 active - open images data and labels'\n",
    "config.log_dir = '_logs'\n",
    "config.val_json_file = None\n",
    "config.steps_per_execution = 1\n",
    "config.max_instances_per_image = 200\n",
    "config.strategy = 'gpus'\n",
    "\n",
    "## TODO: AUTOMATIC NUM SAMPLES CALC\n",
    "config.steps_per_epoch = 21648//config.batch_size\n",
    "config.num_classes = 1\n",
    "validation_steps = 3821//config.batch_size"
   ]
  },
  {
   "cell_type": "code",
   "execution_count": 7,
   "id": "9b6976c8",
   "metadata": {},
   "outputs": [],
   "source": [
    "#train_file_pattern=\"_logs/tfrecords/train-*.tfrecord\"\n",
    "#val_file_pattern=\"_logs/tfrecords/val-*.tfrecord\""
   ]
  },
  {
   "cell_type": "code",
   "execution_count": 8,
   "id": "b3697dfe",
   "metadata": {},
   "outputs": [
    {
     "name": "stderr",
     "output_type": "stream",
     "text": [
      "2022-03-09 09:14:47.786429: I tensorflow/core/platform/cpu_feature_guard.cc:142] This TensorFlow binary is optimized with oneAPI Deep Neural Network Library (oneDNN) to use the following CPU instructions in performance-critical operations:  AVX2 FMA\n",
      "To enable them in other operations, rebuild TensorFlow with the appropriate compiler flags.\n",
      "2022-03-09 09:14:47.786991: I tensorflow/stream_executor/cuda/cuda_gpu_executor.cc:937] successful NUMA node read from SysFS had negative value (-1), but there must be at least one NUMA node, so returning NUMA node zero\n",
      "2022-03-09 09:14:47.787400: I tensorflow/stream_executor/cuda/cuda_gpu_executor.cc:937] successful NUMA node read from SysFS had negative value (-1), but there must be at least one NUMA node, so returning NUMA node zero\n",
      "2022-03-09 09:14:47.787742: I tensorflow/stream_executor/cuda/cuda_gpu_executor.cc:937] successful NUMA node read from SysFS had negative value (-1), but there must be at least one NUMA node, so returning NUMA node zero\n",
      "2022-03-09 09:14:48.685781: I tensorflow/stream_executor/cuda/cuda_gpu_executor.cc:937] successful NUMA node read from SysFS had negative value (-1), but there must be at least one NUMA node, so returning NUMA node zero\n",
      "2022-03-09 09:14:48.687376: I tensorflow/stream_executor/cuda/cuda_gpu_executor.cc:937] successful NUMA node read from SysFS had negative value (-1), but there must be at least one NUMA node, so returning NUMA node zero\n",
      "2022-03-09 09:14:48.688461: I tensorflow/stream_executor/cuda/cuda_gpu_executor.cc:937] successful NUMA node read from SysFS had negative value (-1), but there must be at least one NUMA node, so returning NUMA node zero\n",
      "2022-03-09 09:14:48.689441: I tensorflow/core/common_runtime/gpu/gpu_device.cc:1510] Created device /job:localhost/replica:0/task:0/device:GPU:0 with 10421 MB memory:  -> device: 0, name: NVIDIA GeForce GTX 1080 Ti, pci bus id: 0000:02:00.0, compute capability: 6.1\n"
     ]
    }
   ],
   "source": [
    "use_fake_data = False\n",
    "debug = False\n",
    "\n",
    "ds_strategy = tf.distribute.OneDeviceStrategy('device:GPU:0')\n"
   ]
  },
  {
   "cell_type": "code",
   "execution_count": 9,
   "id": "1d6df603",
   "metadata": {},
   "outputs": [],
   "source": [
    "def get_dataset(is_training, config):\n",
    "    file_pattern = (\n",
    "        \"_logs/tfrecords/train-*.tfrecord\"\n",
    "        if is_training else \"_logs/tfrecords/val-*.tfrecord\")\n",
    "    if not file_pattern:\n",
    "      raise ValueError('No matching files.')\n",
    "\n",
    "    return dataloader.InputReader(\n",
    "        file_pattern,\n",
    "        is_training=is_training,\n",
    "        use_fake_data=use_fake_data,\n",
    "        max_instances_per_image=config.max_instances_per_image,\n",
    "        debug=debug)(config.as_dict())"
   ]
  },
  {
   "cell_type": "code",
   "execution_count": 10,
   "id": "88807167",
   "metadata": {},
   "outputs": [],
   "source": [
    "train_dataset = get_dataset(True, config)"
   ]
  },
  {
   "cell_type": "code",
   "execution_count": 11,
   "id": "48b0c87d",
   "metadata": {},
   "outputs": [
    {
     "data": {
      "text/plain": [
       "<RepeatDataset shapes: ((4, 768, 768, 3), {mean_num_positives: (4, 1), cls_targets_3: (4, 96, 96, 9), box_targets_3: (4, 96, 96, 36), cls_targets_4: (4, 48, 48, 9), box_targets_4: (4, 48, 48, 36), cls_targets_5: (4, 24, 24, 9), box_targets_5: (4, 24, 24, 36), cls_targets_6: (4, 12, 12, 9), box_targets_6: (4, 12, 12, 36), cls_targets_7: (4, 6, 6, 9), box_targets_7: (4, 6, 6, 36), source_ids: (4,), groundtruth_data: (4, 200, 7), image_scales: (4,), image_masks: (4, 0)}), types: (tf.float32, {mean_num_positives: tf.float32, cls_targets_3: tf.int32, box_targets_3: tf.float32, cls_targets_4: tf.int32, box_targets_4: tf.float32, cls_targets_5: tf.int32, box_targets_5: tf.float32, cls_targets_6: tf.int32, box_targets_6: tf.float32, cls_targets_7: tf.int32, box_targets_7: tf.float32, source_ids: tf.float32, groundtruth_data: tf.float32, image_scales: tf.float32, image_masks: tf.float32})>"
      ]
     },
     "execution_count": 11,
     "metadata": {},
     "output_type": "execute_result"
    }
   ],
   "source": [
    "train_dataset"
   ]
  },
  {
   "cell_type": "code",
   "execution_count": 12,
   "id": "569943ea",
   "metadata": {},
   "outputs": [],
   "source": [
    "val_dataset = get_dataset(False, config) "
   ]
  },
  {
   "cell_type": "code",
   "execution_count": 13,
   "id": "bc4abe9a",
   "metadata": {},
   "outputs": [
    {
     "data": {
      "text/plain": [
       "<PrefetchDataset shapes: ((4, 768, 768, 3), {mean_num_positives: (4, 1), cls_targets_3: (4, 96, 96, 9), box_targets_3: (4, 96, 96, 36), cls_targets_4: (4, 48, 48, 9), box_targets_4: (4, 48, 48, 36), cls_targets_5: (4, 24, 24, 9), box_targets_5: (4, 24, 24, 36), cls_targets_6: (4, 12, 12, 9), box_targets_6: (4, 12, 12, 36), cls_targets_7: (4, 6, 6, 9), box_targets_7: (4, 6, 6, 36), source_ids: (4,), groundtruth_data: (4, 200, 7), image_scales: (4,), image_masks: (4, 0)}), types: (tf.float32, {mean_num_positives: tf.float32, cls_targets_3: tf.int32, box_targets_3: tf.float32, cls_targets_4: tf.int32, box_targets_4: tf.float32, cls_targets_5: tf.int32, box_targets_5: tf.float32, cls_targets_6: tf.int32, box_targets_6: tf.float32, cls_targets_7: tf.int32, box_targets_7: tf.float32, source_ids: tf.float32, groundtruth_data: tf.float32, image_scales: tf.float32, image_masks: tf.float32})>"
      ]
     },
     "execution_count": 13,
     "metadata": {},
     "output_type": "execute_result"
    }
   ],
   "source": [
    "val_dataset"
   ]
  },
  {
   "cell_type": "code",
   "execution_count": 14,
   "id": "2c1f10b1",
   "metadata": {},
   "outputs": [],
   "source": [
    "def init_experimental(config):\n",
    "  \"\"\"Serialize train config to model directory.\"\"\"\n",
    "  tf.io.gfile.makedirs(config.log_dir)\n",
    "  config_file = os.path.join(config.model_dir, 'config.yaml')\n",
    "  if not tf.io.gfile.exists(config_file):\n",
    "    tf.io.gfile.GFile(config_file, 'w').write(str(config))"
   ]
  },
  {
   "cell_type": "code",
   "execution_count": 15,
   "id": "d4a057d8",
   "metadata": {},
   "outputs": [],
   "source": [
    "def setup_model(model, config):\n",
    "  \"\"\"Build and compile model.\"\"\"\n",
    "  model.build((None, *config.image_size, 3))\n",
    "  model.compile(\n",
    "      steps_per_execution=config.steps_per_execution,\n",
    "      optimizer=train_lib.get_optimizer(config.as_dict()),\n",
    "      loss={\n",
    "          train_lib.BoxLoss.__name__:\n",
    "              train_lib.BoxLoss(\n",
    "                  config.delta, reduction=tf.keras.losses.Reduction.NONE),\n",
    "          train_lib.BoxIouLoss.__name__:\n",
    "              train_lib.BoxIouLoss(\n",
    "                  config.iou_loss_type,\n",
    "                  config.min_level,\n",
    "                  config.max_level,\n",
    "                  config.num_scales,\n",
    "                  config.aspect_ratios,\n",
    "                  config.anchor_scale,\n",
    "                  config.image_size,\n",
    "                  reduction=tf.keras.losses.Reduction.NONE),\n",
    "          train_lib.FocalLoss.__name__:\n",
    "              train_lib.FocalLoss(\n",
    "                  config.alpha,\n",
    "                  config.gamma,\n",
    "                  label_smoothing=config.label_smoothing,\n",
    "                  reduction=tf.keras.losses.Reduction.NONE),\n",
    "          tf.keras.losses.SparseCategoricalCrossentropy.__name__:\n",
    "              tf.keras.losses.SparseCategoricalCrossentropy(\n",
    "                  from_logits=True, reduction=tf.keras.losses.Reduction.NONE)\n",
    "      })\n",
    "  return model"
   ]
  },
  {
   "cell_type": "code",
   "execution_count": 16,
   "id": "081076b0",
   "metadata": {},
   "outputs": [],
   "source": [
    "# set mixed precision policy by keras api.\n",
    "precision = utils.get_precision(config.strategy, config.mixed_precision)\n",
    "policy = tf.keras.mixed_precision.Policy(precision)\n",
    "tf.keras.mixed_precision.set_global_policy(policy)"
   ]
  },
  {
   "cell_type": "code",
   "execution_count": 17,
   "id": "7466195f",
   "metadata": {},
   "outputs": [
    {
     "name": "stderr",
     "output_type": "stream",
     "text": [
      "/home/zverko/.local/lib/python3.8/site-packages/keras/engine/base_layer.py:1348: UserWarning: `layer.updates` will be removed in a future version. This property should not be used in TensorFlow 2.0, as `updates` are applied automatically.\n",
      "  warnings.warn('`layer.updates` will be removed in a future version. '\n",
      "2022-03-09 09:14:57.686573: I tensorflow/compiler/mlir/mlir_graph_optimization_pass.cc:185] None of the MLIR Optimization Passes are enabled (registered 2)\n"
     ]
    },
    {
     "name": "stdout",
     "output_type": "stream",
     "text": [
      "Epoch 32/300\n",
      "WARNING:tensorflow:Unresolved object in checkpoint: (root).loss\n"
     ]
    },
    {
     "name": "stderr",
     "output_type": "stream",
     "text": [
      "WARNING:tensorflow:Unresolved object in checkpoint: (root).loss\n"
     ]
    },
    {
     "name": "stdout",
     "output_type": "stream",
     "text": [
      "WARNING:tensorflow:A checkpoint was restored (e.g. tf.train.Checkpoint.restore or tf.keras.Model.load_weights) but not all checkpointed values were used. See above for specific issues. Use expect_partial() on the load status object, e.g. tf.train.Checkpoint.restore(...).expect_partial(), to silence these warnings, or use assert_consumed() to make the check explicit. See https://www.tensorflow.org/guide/checkpoint#loading_mechanics for details.\n"
     ]
    },
    {
     "name": "stderr",
     "output_type": "stream",
     "text": [
      "WARNING:tensorflow:A checkpoint was restored (e.g. tf.train.Checkpoint.restore or tf.keras.Model.load_weights) but not all checkpointed values were used. See above for specific issues. Use expect_partial() on the load status object, e.g. tf.train.Checkpoint.restore(...).expect_partial(), to silence these warnings, or use assert_consumed() to make the check explicit. See https://www.tensorflow.org/guide/checkpoint#loading_mechanics for details.\n",
      "2022-03-09 09:15:36.788130: I tensorflow/stream_executor/cuda/cuda_dnn.cc:369] Loaded cuDNN version 8204\n"
     ]
    },
    {
     "name": "stdout",
     "output_type": "stream",
     "text": [
      "5412/5412 [==============================] - 2091s 378ms/step - det_loss: 0.8593 - cls_loss: 0.5065 - box_loss: 0.0071 - reg_l2_loss: 0.0819 - loss: 0.9412 - learning_rate: 0.0049 - gradient_norm: 1.8579 - val_det_loss: 2.7378 - val_cls_loss: 1.9786 - val_box_loss: 0.0152 - val_reg_l2_loss: 0.0815 - val_loss: 2.8193\n",
      "\n",
      "Epoch 00032: saving model to _logs/ckpt-32\n",
      "Epoch 33/300\n",
      "5412/5412 [==============================] - 2039s 377ms/step - det_loss: 0.8562 - cls_loss: 0.5035 - box_loss: 0.0071 - reg_l2_loss: 0.0811 - loss: 0.9373 - learning_rate: 0.0049 - gradient_norm: 1.8688 - val_det_loss: 2.6773 - val_cls_loss: 1.8721 - val_box_loss: 0.0161 - val_reg_l2_loss: 0.0807 - val_loss: 2.7580\n",
      "\n",
      "Epoch 00033: saving model to _logs/ckpt-33\n",
      "Epoch 34/300\n",
      "5412/5412 [==============================] - 2039s 377ms/step - det_loss: 0.8538 - cls_loss: 0.5034 - box_loss: 0.0070 - reg_l2_loss: 0.0802 - loss: 0.9341 - learning_rate: 0.0048 - gradient_norm: 1.8662 - val_det_loss: 2.5823 - val_cls_loss: 1.8473 - val_box_loss: 0.0147 - val_reg_l2_loss: 0.0798 - val_loss: 2.6622\n",
      "\n",
      "Epoch 00034: saving model to _logs/ckpt-34\n",
      "Epoch 35/300\n",
      "5412/5412 [==============================] - 2040s 377ms/step - det_loss: 0.8524 - cls_loss: 0.5027 - box_loss: 0.0070 - reg_l2_loss: 0.0795 - loss: 0.9318 - learning_rate: 0.0048 - gradient_norm: 1.8624 - val_det_loss: 2.5640 - val_cls_loss: 1.8341 - val_box_loss: 0.0146 - val_reg_l2_loss: 0.0791 - val_loss: 2.6431\n",
      "\n",
      "Epoch 00035: saving model to _logs/ckpt-35\n",
      "Epoch 36/300\n",
      "5412/5412 [==============================] - 2037s 376ms/step - det_loss: 0.8517 - cls_loss: 0.5023 - box_loss: 0.0070 - reg_l2_loss: 0.0787 - loss: 0.9304 - learning_rate: 0.0048 - gradient_norm: 1.8679 - val_det_loss: 2.5621 - val_cls_loss: 1.7692 - val_box_loss: 0.0159 - val_reg_l2_loss: 0.0783 - val_loss: 2.6404\n",
      "\n",
      "Epoch 00036: saving model to _logs/ckpt-36\n",
      "Epoch 37/300\n",
      "5412/5412 [==============================] - 2049s 379ms/step - det_loss: 0.8528 - cls_loss: 0.5028 - box_loss: 0.0070 - reg_l2_loss: 0.0779 - loss: 0.9307 - learning_rate: 0.0048 - gradient_norm: 1.8780 - val_det_loss: 2.6032 - val_cls_loss: 1.8331 - val_box_loss: 0.0154 - val_reg_l2_loss: 0.0776 - val_loss: 2.6808\n",
      "\n",
      "Epoch 00037: saving model to _logs/ckpt-37\n",
      "Epoch 38/300\n",
      "5412/5412 [==============================] - 2042s 377ms/step - det_loss: 0.8453 - cls_loss: 0.4971 - box_loss: 0.0070 - reg_l2_loss: 0.0772 - loss: 0.9225 - learning_rate: 0.0048 - gradient_norm: 1.8810 - val_det_loss: 2.6173 - val_cls_loss: 1.8522 - val_box_loss: 0.0153 - val_reg_l2_loss: 0.0768 - val_loss: 2.6941\n",
      "\n",
      "Epoch 00038: saving model to _logs/ckpt-38\n",
      "Epoch 39/300\n",
      "3000/5412 [===============>..............] - ETA: 14:15 - det_loss: 0.8490 - cls_loss: 0.5022 - box_loss: 0.0069 - reg_l2_loss: 0.0766 - loss: 0.9256 - learning_rate: 0.0048 - gradient_norm: 1.8845"
     ]
    },
    {
     "ename": "KeyboardInterrupt",
     "evalue": "",
     "output_type": "error",
     "traceback": [
      "\u001b[0;31m---------------------------------------------------------------------------\u001b[0m",
      "\u001b[0;31mKeyboardInterrupt\u001b[0m                         Traceback (most recent call last)",
      "\u001b[0;32m/tmp/ipykernel_3571/3467810534.py\u001b[0m in \u001b[0;36m<module>\u001b[0;34m\u001b[0m\n\u001b[1;32m     15\u001b[0m \u001b[0;34m\u001b[0m\u001b[0m\n\u001b[1;32m     16\u001b[0m   \u001b[0;31m#Train model\u001b[0m\u001b[0;34m\u001b[0m\u001b[0;34m\u001b[0m\u001b[0;34m\u001b[0m\u001b[0m\n\u001b[0;32m---> 17\u001b[0;31m   model.fit(train_dataset,\n\u001b[0m\u001b[1;32m     18\u001b[0m           \u001b[0mepochs\u001b[0m\u001b[0;34m=\u001b[0m\u001b[0mconfig\u001b[0m\u001b[0;34m.\u001b[0m\u001b[0mnum_epochs\u001b[0m\u001b[0;34m,\u001b[0m\u001b[0;34m\u001b[0m\u001b[0;34m\u001b[0m\u001b[0m\n\u001b[1;32m     19\u001b[0m           \u001b[0msteps_per_epoch\u001b[0m\u001b[0;34m=\u001b[0m\u001b[0mconfig\u001b[0m\u001b[0;34m.\u001b[0m\u001b[0msteps_per_epoch\u001b[0m\u001b[0;34m,\u001b[0m\u001b[0;34m\u001b[0m\u001b[0;34m\u001b[0m\u001b[0m\n",
      "\u001b[0;32m~/.local/lib/python3.8/site-packages/keras/engine/training.py\u001b[0m in \u001b[0;36mfit\u001b[0;34m(self, x, y, batch_size, epochs, verbose, callbacks, validation_split, validation_data, shuffle, class_weight, sample_weight, initial_epoch, steps_per_epoch, validation_steps, validation_batch_size, validation_freq, max_queue_size, workers, use_multiprocessing)\u001b[0m\n\u001b[1;32m   1182\u001b[0m                 _r=1):\n\u001b[1;32m   1183\u001b[0m               \u001b[0mcallbacks\u001b[0m\u001b[0;34m.\u001b[0m\u001b[0mon_train_batch_begin\u001b[0m\u001b[0;34m(\u001b[0m\u001b[0mstep\u001b[0m\u001b[0;34m)\u001b[0m\u001b[0;34m\u001b[0m\u001b[0;34m\u001b[0m\u001b[0m\n\u001b[0;32m-> 1184\u001b[0;31m               \u001b[0mtmp_logs\u001b[0m \u001b[0;34m=\u001b[0m \u001b[0mself\u001b[0m\u001b[0;34m.\u001b[0m\u001b[0mtrain_function\u001b[0m\u001b[0;34m(\u001b[0m\u001b[0miterator\u001b[0m\u001b[0;34m)\u001b[0m\u001b[0;34m\u001b[0m\u001b[0;34m\u001b[0m\u001b[0m\n\u001b[0m\u001b[1;32m   1185\u001b[0m               \u001b[0;32mif\u001b[0m \u001b[0mdata_handler\u001b[0m\u001b[0;34m.\u001b[0m\u001b[0mshould_sync\u001b[0m\u001b[0;34m:\u001b[0m\u001b[0;34m\u001b[0m\u001b[0;34m\u001b[0m\u001b[0m\n\u001b[1;32m   1186\u001b[0m                 \u001b[0mcontext\u001b[0m\u001b[0;34m.\u001b[0m\u001b[0masync_wait\u001b[0m\u001b[0;34m(\u001b[0m\u001b[0;34m)\u001b[0m\u001b[0;34m\u001b[0m\u001b[0;34m\u001b[0m\u001b[0m\n",
      "\u001b[0;32m~/.local/lib/python3.8/site-packages/tensorflow/python/eager/def_function.py\u001b[0m in \u001b[0;36m__call__\u001b[0;34m(self, *args, **kwds)\u001b[0m\n\u001b[1;32m    883\u001b[0m \u001b[0;34m\u001b[0m\u001b[0m\n\u001b[1;32m    884\u001b[0m       \u001b[0;32mwith\u001b[0m \u001b[0mOptionalXlaContext\u001b[0m\u001b[0;34m(\u001b[0m\u001b[0mself\u001b[0m\u001b[0;34m.\u001b[0m\u001b[0m_jit_compile\u001b[0m\u001b[0;34m)\u001b[0m\u001b[0;34m:\u001b[0m\u001b[0;34m\u001b[0m\u001b[0;34m\u001b[0m\u001b[0m\n\u001b[0;32m--> 885\u001b[0;31m         \u001b[0mresult\u001b[0m \u001b[0;34m=\u001b[0m \u001b[0mself\u001b[0m\u001b[0;34m.\u001b[0m\u001b[0m_call\u001b[0m\u001b[0;34m(\u001b[0m\u001b[0;34m*\u001b[0m\u001b[0margs\u001b[0m\u001b[0;34m,\u001b[0m \u001b[0;34m**\u001b[0m\u001b[0mkwds\u001b[0m\u001b[0;34m)\u001b[0m\u001b[0;34m\u001b[0m\u001b[0;34m\u001b[0m\u001b[0m\n\u001b[0m\u001b[1;32m    886\u001b[0m \u001b[0;34m\u001b[0m\u001b[0m\n\u001b[1;32m    887\u001b[0m       \u001b[0mnew_tracing_count\u001b[0m \u001b[0;34m=\u001b[0m \u001b[0mself\u001b[0m\u001b[0;34m.\u001b[0m\u001b[0mexperimental_get_tracing_count\u001b[0m\u001b[0;34m(\u001b[0m\u001b[0;34m)\u001b[0m\u001b[0;34m\u001b[0m\u001b[0;34m\u001b[0m\u001b[0m\n",
      "\u001b[0;32m~/.local/lib/python3.8/site-packages/tensorflow/python/eager/def_function.py\u001b[0m in \u001b[0;36m_call\u001b[0;34m(self, *args, **kwds)\u001b[0m\n\u001b[1;32m    915\u001b[0m       \u001b[0;31m# In this case we have created variables on the first call, so we run the\u001b[0m\u001b[0;34m\u001b[0m\u001b[0;34m\u001b[0m\u001b[0;34m\u001b[0m\u001b[0m\n\u001b[1;32m    916\u001b[0m       \u001b[0;31m# defunned version which is guaranteed to never create variables.\u001b[0m\u001b[0;34m\u001b[0m\u001b[0;34m\u001b[0m\u001b[0;34m\u001b[0m\u001b[0m\n\u001b[0;32m--> 917\u001b[0;31m       \u001b[0;32mreturn\u001b[0m \u001b[0mself\u001b[0m\u001b[0;34m.\u001b[0m\u001b[0m_stateless_fn\u001b[0m\u001b[0;34m(\u001b[0m\u001b[0;34m*\u001b[0m\u001b[0margs\u001b[0m\u001b[0;34m,\u001b[0m \u001b[0;34m**\u001b[0m\u001b[0mkwds\u001b[0m\u001b[0;34m)\u001b[0m  \u001b[0;31m# pylint: disable=not-callable\u001b[0m\u001b[0;34m\u001b[0m\u001b[0;34m\u001b[0m\u001b[0m\n\u001b[0m\u001b[1;32m    918\u001b[0m     \u001b[0;32melif\u001b[0m \u001b[0mself\u001b[0m\u001b[0;34m.\u001b[0m\u001b[0m_stateful_fn\u001b[0m \u001b[0;32mis\u001b[0m \u001b[0;32mnot\u001b[0m \u001b[0;32mNone\u001b[0m\u001b[0;34m:\u001b[0m\u001b[0;34m\u001b[0m\u001b[0;34m\u001b[0m\u001b[0m\n\u001b[1;32m    919\u001b[0m       \u001b[0;31m# Release the lock early so that multiple threads can perform the call\u001b[0m\u001b[0;34m\u001b[0m\u001b[0;34m\u001b[0m\u001b[0;34m\u001b[0m\u001b[0m\n",
      "\u001b[0;32m~/.local/lib/python3.8/site-packages/tensorflow/python/eager/function.py\u001b[0m in \u001b[0;36m__call__\u001b[0;34m(self, *args, **kwargs)\u001b[0m\n\u001b[1;32m   3037\u001b[0m       (graph_function,\n\u001b[1;32m   3038\u001b[0m        filtered_flat_args) = self._maybe_define_function(args, kwargs)\n\u001b[0;32m-> 3039\u001b[0;31m     return graph_function._call_flat(\n\u001b[0m\u001b[1;32m   3040\u001b[0m         filtered_flat_args, captured_inputs=graph_function.captured_inputs)  # pylint: disable=protected-access\n\u001b[1;32m   3041\u001b[0m \u001b[0;34m\u001b[0m\u001b[0m\n",
      "\u001b[0;32m~/.local/lib/python3.8/site-packages/tensorflow/python/eager/function.py\u001b[0m in \u001b[0;36m_call_flat\u001b[0;34m(self, args, captured_inputs, cancellation_manager)\u001b[0m\n\u001b[1;32m   1961\u001b[0m         and executing_eagerly):\n\u001b[1;32m   1962\u001b[0m       \u001b[0;31m# No tape is watching; skip to running the function.\u001b[0m\u001b[0;34m\u001b[0m\u001b[0;34m\u001b[0m\u001b[0;34m\u001b[0m\u001b[0m\n\u001b[0;32m-> 1963\u001b[0;31m       return self._build_call_outputs(self._inference_function.call(\n\u001b[0m\u001b[1;32m   1964\u001b[0m           ctx, args, cancellation_manager=cancellation_manager))\n\u001b[1;32m   1965\u001b[0m     forward_backward = self._select_forward_and_backward_functions(\n",
      "\u001b[0;32m~/.local/lib/python3.8/site-packages/tensorflow/python/eager/function.py\u001b[0m in \u001b[0;36mcall\u001b[0;34m(self, ctx, args, cancellation_manager)\u001b[0m\n\u001b[1;32m    589\u001b[0m       \u001b[0;32mwith\u001b[0m \u001b[0m_InterpolateFunctionError\u001b[0m\u001b[0;34m(\u001b[0m\u001b[0mself\u001b[0m\u001b[0;34m)\u001b[0m\u001b[0;34m:\u001b[0m\u001b[0;34m\u001b[0m\u001b[0;34m\u001b[0m\u001b[0m\n\u001b[1;32m    590\u001b[0m         \u001b[0;32mif\u001b[0m \u001b[0mcancellation_manager\u001b[0m \u001b[0;32mis\u001b[0m \u001b[0;32mNone\u001b[0m\u001b[0;34m:\u001b[0m\u001b[0;34m\u001b[0m\u001b[0;34m\u001b[0m\u001b[0m\n\u001b[0;32m--> 591\u001b[0;31m           outputs = execute.execute(\n\u001b[0m\u001b[1;32m    592\u001b[0m               \u001b[0mstr\u001b[0m\u001b[0;34m(\u001b[0m\u001b[0mself\u001b[0m\u001b[0;34m.\u001b[0m\u001b[0msignature\u001b[0m\u001b[0;34m.\u001b[0m\u001b[0mname\u001b[0m\u001b[0;34m)\u001b[0m\u001b[0;34m,\u001b[0m\u001b[0;34m\u001b[0m\u001b[0;34m\u001b[0m\u001b[0m\n\u001b[1;32m    593\u001b[0m               \u001b[0mnum_outputs\u001b[0m\u001b[0;34m=\u001b[0m\u001b[0mself\u001b[0m\u001b[0;34m.\u001b[0m\u001b[0m_num_outputs\u001b[0m\u001b[0;34m,\u001b[0m\u001b[0;34m\u001b[0m\u001b[0;34m\u001b[0m\u001b[0m\n",
      "\u001b[0;32m~/.local/lib/python3.8/site-packages/tensorflow/python/eager/execute.py\u001b[0m in \u001b[0;36mquick_execute\u001b[0;34m(op_name, num_outputs, inputs, attrs, ctx, name)\u001b[0m\n\u001b[1;32m     57\u001b[0m   \u001b[0;32mtry\u001b[0m\u001b[0;34m:\u001b[0m\u001b[0;34m\u001b[0m\u001b[0;34m\u001b[0m\u001b[0m\n\u001b[1;32m     58\u001b[0m     \u001b[0mctx\u001b[0m\u001b[0;34m.\u001b[0m\u001b[0mensure_initialized\u001b[0m\u001b[0;34m(\u001b[0m\u001b[0;34m)\u001b[0m\u001b[0;34m\u001b[0m\u001b[0;34m\u001b[0m\u001b[0m\n\u001b[0;32m---> 59\u001b[0;31m     tensors = pywrap_tfe.TFE_Py_Execute(ctx._handle, device_name, op_name,\n\u001b[0m\u001b[1;32m     60\u001b[0m                                         inputs, attrs, num_outputs)\n\u001b[1;32m     61\u001b[0m   \u001b[0;32mexcept\u001b[0m \u001b[0mcore\u001b[0m\u001b[0;34m.\u001b[0m\u001b[0m_NotOkStatusException\u001b[0m \u001b[0;32mas\u001b[0m \u001b[0me\u001b[0m\u001b[0;34m:\u001b[0m\u001b[0;34m\u001b[0m\u001b[0;34m\u001b[0m\u001b[0m\n",
      "\u001b[0;31mKeyboardInterrupt\u001b[0m: "
     ]
    }
   ],
   "source": [
    "with ds_strategy.scope():\n",
    "  \n",
    "  #Load and compile model\n",
    "  model = train_lib.EfficientDetNetTrain(config=config)\n",
    "  model.layers[0].trainable = False\n",
    "  model = setup_model(model, config)\n",
    "  \n",
    "  #Load checkpoints if they exist\n",
    "  if tf.train.latest_checkpoint(config.log_dir):\n",
    "    ckpt_path = tf.train.latest_checkpoint(config.log_dir)\n",
    "    util_keras.restore_ckpt(model,\n",
    "                            ckpt_path,\n",
    "                            config.moving_average_decay)\n",
    "  init_experimental(config)\n",
    "  \n",
    "  #Train model\n",
    "  model.fit(train_dataset,\n",
    "          epochs=config.num_epochs,\n",
    "          steps_per_epoch=config.steps_per_epoch,\n",
    "          initial_epoch=model.optimizer.iterations.numpy() // config.steps_per_epoch,\n",
    "          callbacks=train_lib.get_callbacks(config.as_dict(), val_dataset),\n",
    "          validation_data=val_dataset,\n",
    "          validation_steps=validation_steps)"
   ]
  },
  {
   "cell_type": "code",
   "execution_count": 27,
   "id": "1f4e7fef",
   "metadata": {},
   "outputs": [
    {
     "data": {
      "text/plain": [
       "['_GeneratorState',\n",
       " '__abstractmethods__',\n",
       " '__bool__',\n",
       " '__class__',\n",
       " '__delattr__',\n",
       " '__dict__',\n",
       " '__dir__',\n",
       " '__doc__',\n",
       " '__eq__',\n",
       " '__format__',\n",
       " '__ge__',\n",
       " '__getattribute__',\n",
       " '__gt__',\n",
       " '__hash__',\n",
       " '__init__',\n",
       " '__init_subclass__',\n",
       " '__iter__',\n",
       " '__le__',\n",
       " '__len__',\n",
       " '__lt__',\n",
       " '__module__',\n",
       " '__ne__',\n",
       " '__new__',\n",
       " '__nonzero__',\n",
       " '__reduce__',\n",
       " '__reduce_ex__',\n",
       " '__repr__',\n",
       " '__setattr__',\n",
       " '__sizeof__',\n",
       " '__slots__',\n",
       " '__str__',\n",
       " '__subclasshook__',\n",
       " '__weakref__',\n",
       " '_abc_impl',\n",
       " '_add_variable_with_custom_getter',\n",
       " '_apply_debug_options',\n",
       " '_as_serialized_graph',\n",
       " '_buffer_size',\n",
       " '_checkpoint_dependencies',\n",
       " '_consumers',\n",
       " '_deferred_dependencies',\n",
       " '_flat_shapes',\n",
       " '_flat_structure',\n",
       " '_flat_types',\n",
       " '_functions',\n",
       " '_gather_saveables_for_checkpoint',\n",
       " '_graph',\n",
       " '_graph_attr',\n",
       " '_handle_deferred_dependencies',\n",
       " '_input_dataset',\n",
       " '_inputs',\n",
       " '_list_extra_dependencies_for_serialization',\n",
       " '_list_functions_for_serialization',\n",
       " '_lookup_dependency',\n",
       " '_map_resources',\n",
       " '_maybe_initialize_trackable',\n",
       " '_name_based_attribute_restore',\n",
       " '_name_based_restores',\n",
       " '_no_dependency',\n",
       " '_object_identifier',\n",
       " '_options',\n",
       " '_options_attr',\n",
       " '_options_tensor_to_options',\n",
       " '_preload_simple_restoration',\n",
       " '_restore_from_checkpoint_position',\n",
       " '_self_name_based_restores',\n",
       " '_self_saveable_object_factories',\n",
       " '_self_setattr_tracking',\n",
       " '_self_unconditional_checkpoint_dependencies',\n",
       " '_self_unconditional_deferred_dependencies',\n",
       " '_self_unconditional_dependency_names',\n",
       " '_self_update_uid',\n",
       " '_setattr_tracking',\n",
       " '_shape_invariant_to_type_spec',\n",
       " '_single_restoration_from_checkpoint_position',\n",
       " '_tf_api_names',\n",
       " '_tf_api_names_v1',\n",
       " '_trace_variant_creation',\n",
       " '_track_trackable',\n",
       " '_type_spec',\n",
       " '_unconditional_checkpoint_dependencies',\n",
       " '_unconditional_dependency_names',\n",
       " '_update_uid',\n",
       " '_variant_tensor',\n",
       " '_variant_tensor_attr',\n",
       " '_variant_tracker',\n",
       " 'apply',\n",
       " 'as_numpy_iterator',\n",
       " 'batch',\n",
       " 'bucket_by_sequence_length',\n",
       " 'cache',\n",
       " 'cardinality',\n",
       " 'concatenate',\n",
       " 'element_spec',\n",
       " 'enumerate',\n",
       " 'filter',\n",
       " 'flat_map',\n",
       " 'from_generator',\n",
       " 'from_tensor_slices',\n",
       " 'from_tensors',\n",
       " 'get_single_element',\n",
       " 'group_by_window',\n",
       " 'interleave',\n",
       " 'list_files',\n",
       " 'map',\n",
       " 'options',\n",
       " 'padded_batch',\n",
       " 'prefetch',\n",
       " 'random',\n",
       " 'range',\n",
       " 'reduce',\n",
       " 'repeat',\n",
       " 'scan',\n",
       " 'shard',\n",
       " 'shuffle',\n",
       " 'skip',\n",
       " 'snapshot',\n",
       " 'take',\n",
       " 'take_while',\n",
       " 'unbatch',\n",
       " 'unique',\n",
       " 'window',\n",
       " 'with_options',\n",
       " 'zip']"
      ]
     },
     "execution_count": 27,
     "metadata": {},
     "output_type": "execute_result"
    }
   ],
   "source": [
    "dir(val_dataset)"
   ]
  },
  {
   "cell_type": "code",
   "execution_count": 71,
   "id": "8260b215",
   "metadata": {},
   "outputs": [],
   "source": [
    "import matplotlib.pyplot as plt\n",
    "from visualize.vis_utils import draw_bounding_boxes_on_image_tensors"
   ]
  },
  {
   "cell_type": "code",
   "execution_count": 66,
   "id": "0ea399a0",
   "metadata": {},
   "outputs": [],
   "source": [
    "import numpy as np"
   ]
  },
  {
   "cell_type": "code",
   "execution_count": 109,
   "id": "00236fa8",
   "metadata": {},
   "outputs": [],
   "source": [
    "cl_dict = {1: {1: 'Boat'},2: {2: 'Jet ski'}}"
   ]
  },
  {
   "cell_type": "code",
   "execution_count": 110,
   "id": "ed68c15b",
   "metadata": {
    "scrolled": false
   },
   "outputs": [
    {
     "name": "stdout",
     "output_type": "stream",
     "text": [
      "(768, 768, 3)\n",
      "(4, 200, 7)\n",
      "(4, 768, 768, 3) (4, 200, 4) (4, 200) (4, 200)\n"
     ]
    },
    {
     "ename": "KeyError",
     "evalue": "in user code:\n\n    /host/04 - Plovila Detection/train/06 automl efficientdet/tmp_utils/visualize/vis_utils.py:499 draw_boxes  *\n        image_with_boxes = tf.py_func(visualize_boxes_fn, image_and_detections[2:],\n    /home/zverko/.local/lib/python3.8/site-packages/tensorflow/python/util/deprecation.py:346 new_func  **\n        return func(*args, **kwargs)\n    /home/zverko/.local/lib/python3.8/site-packages/tensorflow/python/util/dispatch.py:206 wrapper\n        return target(*args, **kwargs)\n    /home/zverko/.local/lib/python3.8/site-packages/tensorflow/python/ops/script_ops.py:665 py_func\n        return py_func_common(func, inp, Tout, stateful, name=name)\n    /home/zverko/.local/lib/python3.8/site-packages/tensorflow/python/ops/script_ops.py:626 py_func_common\n        result = func(*[np.array(x) for x in inp])\n    /host/04 - Plovila Detection/train/06 automl efficientdet/tmp_utils/visualize/vis_utils.py:379 visualization_py_func_fn\n        return visualize_boxes_and_labels_on_image_array(\n    /host/04 - Plovila Detection/train/06 automl efficientdet/tmp_utils/visualize/vis_utils.py:862 visualize_boxes_and_labels_on_image_array\n        class_name = category_index[classes[i]]['name']\n\n    KeyError: 'name'\n",
     "output_type": "error",
     "traceback": [
      "\u001b[0;31m---------------------------------------------------------------------------\u001b[0m",
      "\u001b[0;31mKeyError\u001b[0m                                  Traceback (most recent call last)",
      "\u001b[0;32m/tmp/ipykernel_3571/3864531106.py\u001b[0m in \u001b[0;36m<module>\u001b[0;34m\u001b[0m\n\u001b[1;32m      8\u001b[0m     \u001b[0mclasses\u001b[0m \u001b[0;34m=\u001b[0m \u001b[0mlabels\u001b[0m\u001b[0;34m[\u001b[0m\u001b[0;34m'groundtruth_data'\u001b[0m\u001b[0;34m]\u001b[0m\u001b[0;34m[\u001b[0m\u001b[0;34m:\u001b[0m\u001b[0;34m,\u001b[0m\u001b[0;34m:\u001b[0m\u001b[0;34m,\u001b[0m\u001b[0;36m6\u001b[0m\u001b[0;34m]\u001b[0m\u001b[0;34m.\u001b[0m\u001b[0mnumpy\u001b[0m\u001b[0;34m(\u001b[0m\u001b[0;34m)\u001b[0m\u001b[0;34m\u001b[0m\u001b[0;34m\u001b[0m\u001b[0m\n\u001b[1;32m      9\u001b[0m     \u001b[0mprint\u001b[0m\u001b[0;34m(\u001b[0m\u001b[0mim\u001b[0m\u001b[0;34m.\u001b[0m\u001b[0mshape\u001b[0m\u001b[0;34m,\u001b[0m\u001b[0mboxes\u001b[0m\u001b[0;34m.\u001b[0m\u001b[0mshape\u001b[0m\u001b[0;34m,\u001b[0m\u001b[0mconfidence\u001b[0m\u001b[0;34m.\u001b[0m\u001b[0mshape\u001b[0m\u001b[0;34m,\u001b[0m\u001b[0mclasses\u001b[0m\u001b[0;34m.\u001b[0m\u001b[0mshape\u001b[0m\u001b[0;34m)\u001b[0m\u001b[0;34m\u001b[0m\u001b[0;34m\u001b[0m\u001b[0m\n\u001b[0;32m---> 10\u001b[0;31m     draw_bounding_boxes_on_image_tensors(images,\n\u001b[0m\u001b[1;32m     11\u001b[0m                                         \u001b[0mboxes\u001b[0m\u001b[0;34m,\u001b[0m\u001b[0;34m\u001b[0m\u001b[0;34m\u001b[0m\u001b[0m\n\u001b[1;32m     12\u001b[0m                                         \u001b[0mclasses\u001b[0m\u001b[0;34m,\u001b[0m\u001b[0;34m\u001b[0m\u001b[0;34m\u001b[0m\u001b[0m\n",
      "\u001b[0;32m/host/04 - Plovila Detection/train/06 automl efficientdet/tmp_utils/visualize/vis_utils.py\u001b[0m in \u001b[0;36mdraw_bounding_boxes_on_image_tensors\u001b[0;34m(images, boxes, classes, scores, category_index, original_image_spatial_shape, true_image_shape, instance_masks, keypoints, keypoint_edges, track_ids, max_boxes_to_draw, min_score_thresh, use_normalized_coordinates)\u001b[0m\n\u001b[1;32m    501\u001b[0m     \u001b[0;32mreturn\u001b[0m \u001b[0mimage_with_boxes\u001b[0m\u001b[0;34m\u001b[0m\u001b[0;34m\u001b[0m\u001b[0m\n\u001b[1;32m    502\u001b[0m \u001b[0;34m\u001b[0m\u001b[0m\n\u001b[0;32m--> 503\u001b[0;31m   \u001b[0mimages\u001b[0m \u001b[0;34m=\u001b[0m \u001b[0mtf\u001b[0m\u001b[0;34m.\u001b[0m\u001b[0mmap_fn\u001b[0m\u001b[0;34m(\u001b[0m\u001b[0mdraw_boxes\u001b[0m\u001b[0;34m,\u001b[0m \u001b[0melems\u001b[0m\u001b[0;34m,\u001b[0m \u001b[0mdtype\u001b[0m\u001b[0;34m=\u001b[0m\u001b[0mtf\u001b[0m\u001b[0;34m.\u001b[0m\u001b[0muint8\u001b[0m\u001b[0;34m,\u001b[0m \u001b[0mback_prop\u001b[0m\u001b[0;34m=\u001b[0m\u001b[0;32mFalse\u001b[0m\u001b[0;34m)\u001b[0m\u001b[0;34m\u001b[0m\u001b[0;34m\u001b[0m\u001b[0m\n\u001b[0m\u001b[1;32m    504\u001b[0m   \u001b[0;32mreturn\u001b[0m \u001b[0mimages\u001b[0m\u001b[0;34m\u001b[0m\u001b[0;34m\u001b[0m\u001b[0m\n\u001b[1;32m    505\u001b[0m \u001b[0;34m\u001b[0m\u001b[0m\n",
      "\u001b[0;32m~/.local/lib/python3.8/site-packages/tensorflow/python/util/deprecation.py\u001b[0m in \u001b[0;36mnew_func\u001b[0;34m(*args, **kwargs)\u001b[0m\n\u001b[1;32m    547\u001b[0m                 \u001b[0;34m'in a future version'\u001b[0m \u001b[0;32mif\u001b[0m \u001b[0mdate\u001b[0m \u001b[0;32mis\u001b[0m \u001b[0;32mNone\u001b[0m \u001b[0;32melse\u001b[0m \u001b[0;34m(\u001b[0m\u001b[0;34m'after %s'\u001b[0m \u001b[0;34m%\u001b[0m \u001b[0mdate\u001b[0m\u001b[0;34m)\u001b[0m\u001b[0;34m,\u001b[0m\u001b[0;34m\u001b[0m\u001b[0;34m\u001b[0m\u001b[0m\n\u001b[1;32m    548\u001b[0m                 instructions)\n\u001b[0;32m--> 549\u001b[0;31m       \u001b[0;32mreturn\u001b[0m \u001b[0mfunc\u001b[0m\u001b[0;34m(\u001b[0m\u001b[0;34m*\u001b[0m\u001b[0margs\u001b[0m\u001b[0;34m,\u001b[0m \u001b[0;34m**\u001b[0m\u001b[0mkwargs\u001b[0m\u001b[0;34m)\u001b[0m\u001b[0;34m\u001b[0m\u001b[0;34m\u001b[0m\u001b[0m\n\u001b[0m\u001b[1;32m    550\u001b[0m \u001b[0;34m\u001b[0m\u001b[0m\n\u001b[1;32m    551\u001b[0m     doc = _add_deprecated_arg_notice_to_docstring(\n",
      "\u001b[0;32m~/.local/lib/python3.8/site-packages/tensorflow/python/ops/map_fn.py\u001b[0m in \u001b[0;36mmap_fn\u001b[0;34m(fn, elems, dtype, parallel_iterations, back_prop, swap_memory, infer_shape, name, fn_output_signature)\u001b[0m\n\u001b[1;32m    499\u001b[0m       \u001b[0;32mreturn\u001b[0m \u001b[0;34m(\u001b[0m\u001b[0mi\u001b[0m \u001b[0;34m+\u001b[0m \u001b[0;36m1\u001b[0m\u001b[0;34m,\u001b[0m \u001b[0mtas\u001b[0m\u001b[0;34m)\u001b[0m\u001b[0;34m\u001b[0m\u001b[0;34m\u001b[0m\u001b[0m\n\u001b[1;32m    500\u001b[0m \u001b[0;34m\u001b[0m\u001b[0m\n\u001b[0;32m--> 501\u001b[0;31m     _, r_a = control_flow_ops.while_loop(\n\u001b[0m\u001b[1;32m    502\u001b[0m         \u001b[0;32mlambda\u001b[0m \u001b[0mi\u001b[0m\u001b[0;34m,\u001b[0m \u001b[0m_\u001b[0m\u001b[0;34m:\u001b[0m \u001b[0mi\u001b[0m \u001b[0;34m<\u001b[0m \u001b[0mn\u001b[0m\u001b[0;34m,\u001b[0m\u001b[0;34m\u001b[0m\u001b[0;34m\u001b[0m\u001b[0m\n\u001b[1;32m    503\u001b[0m         \u001b[0mcompute\u001b[0m\u001b[0;34m,\u001b[0m \u001b[0;34m(\u001b[0m\u001b[0mi\u001b[0m\u001b[0;34m,\u001b[0m \u001b[0mresult_batchable_ta\u001b[0m\u001b[0;34m)\u001b[0m\u001b[0;34m,\u001b[0m\u001b[0;34m\u001b[0m\u001b[0;34m\u001b[0m\u001b[0m\n",
      "\u001b[0;32m~/.local/lib/python3.8/site-packages/tensorflow/python/ops/control_flow_ops.py\u001b[0m in \u001b[0;36mwhile_loop\u001b[0;34m(cond, body, loop_vars, shape_invariants, parallel_iterations, back_prop, swap_memory, name, maximum_iterations, return_same_structure)\u001b[0m\n\u001b[1;32m   2775\u001b[0m                                               list(loop_vars))\n\u001b[1;32m   2776\u001b[0m       \u001b[0;32mwhile\u001b[0m \u001b[0mcond\u001b[0m\u001b[0;34m(\u001b[0m\u001b[0;34m*\u001b[0m\u001b[0mloop_vars\u001b[0m\u001b[0;34m)\u001b[0m\u001b[0;34m:\u001b[0m\u001b[0;34m\u001b[0m\u001b[0;34m\u001b[0m\u001b[0m\n\u001b[0;32m-> 2777\u001b[0;31m         \u001b[0mloop_vars\u001b[0m \u001b[0;34m=\u001b[0m \u001b[0mbody\u001b[0m\u001b[0;34m(\u001b[0m\u001b[0;34m*\u001b[0m\u001b[0mloop_vars\u001b[0m\u001b[0;34m)\u001b[0m\u001b[0;34m\u001b[0m\u001b[0;34m\u001b[0m\u001b[0m\n\u001b[0m\u001b[1;32m   2778\u001b[0m         \u001b[0;32mif\u001b[0m \u001b[0mtry_to_pack\u001b[0m \u001b[0;32mand\u001b[0m \u001b[0;32mnot\u001b[0m \u001b[0misinstance\u001b[0m\u001b[0;34m(\u001b[0m\u001b[0mloop_vars\u001b[0m\u001b[0;34m,\u001b[0m \u001b[0;34m(\u001b[0m\u001b[0mlist\u001b[0m\u001b[0;34m,\u001b[0m \u001b[0m_basetuple\u001b[0m\u001b[0;34m)\u001b[0m\u001b[0;34m)\u001b[0m\u001b[0;34m:\u001b[0m\u001b[0;34m\u001b[0m\u001b[0;34m\u001b[0m\u001b[0m\n\u001b[1;32m   2779\u001b[0m           \u001b[0mpacked\u001b[0m \u001b[0;34m=\u001b[0m \u001b[0;32mTrue\u001b[0m\u001b[0;34m\u001b[0m\u001b[0;34m\u001b[0m\u001b[0m\n",
      "\u001b[0;32m~/.local/lib/python3.8/site-packages/tensorflow/python/ops/control_flow_ops.py\u001b[0m in \u001b[0;36m<lambda>\u001b[0;34m(i, lv)\u001b[0m\n\u001b[1;32m   2766\u001b[0m         cond = lambda i, lv: (  # pylint: disable=g-long-lambda\n\u001b[1;32m   2767\u001b[0m             math_ops.logical_and(i < maximum_iterations, orig_cond(*lv)))\n\u001b[0;32m-> 2768\u001b[0;31m         \u001b[0mbody\u001b[0m \u001b[0;34m=\u001b[0m \u001b[0;32mlambda\u001b[0m \u001b[0mi\u001b[0m\u001b[0;34m,\u001b[0m \u001b[0mlv\u001b[0m\u001b[0;34m:\u001b[0m \u001b[0;34m(\u001b[0m\u001b[0mi\u001b[0m \u001b[0;34m+\u001b[0m \u001b[0;36m1\u001b[0m\u001b[0;34m,\u001b[0m \u001b[0morig_body\u001b[0m\u001b[0;34m(\u001b[0m\u001b[0;34m*\u001b[0m\u001b[0mlv\u001b[0m\u001b[0;34m)\u001b[0m\u001b[0;34m)\u001b[0m\u001b[0;34m\u001b[0m\u001b[0;34m\u001b[0m\u001b[0m\n\u001b[0m\u001b[1;32m   2769\u001b[0m       \u001b[0mtry_to_pack\u001b[0m \u001b[0;34m=\u001b[0m \u001b[0;32mFalse\u001b[0m\u001b[0;34m\u001b[0m\u001b[0;34m\u001b[0m\u001b[0m\n\u001b[1;32m   2770\u001b[0m \u001b[0;34m\u001b[0m\u001b[0m\n",
      "\u001b[0;32m~/.local/lib/python3.8/site-packages/tensorflow/python/ops/map_fn.py\u001b[0m in \u001b[0;36mcompute\u001b[0;34m(i, tas)\u001b[0m\n\u001b[1;32m    489\u001b[0m       \u001b[0mag_ctx\u001b[0m \u001b[0;34m=\u001b[0m \u001b[0mautograph_ctx\u001b[0m\u001b[0;34m.\u001b[0m\u001b[0mcontrol_status_ctx\u001b[0m\u001b[0;34m(\u001b[0m\u001b[0;34m)\u001b[0m\u001b[0;34m\u001b[0m\u001b[0;34m\u001b[0m\u001b[0m\n\u001b[1;32m    490\u001b[0m       \u001b[0mautographed_fn\u001b[0m \u001b[0;34m=\u001b[0m \u001b[0mautograph\u001b[0m\u001b[0;34m.\u001b[0m\u001b[0mtf_convert\u001b[0m\u001b[0;34m(\u001b[0m\u001b[0mfn\u001b[0m\u001b[0;34m,\u001b[0m \u001b[0mag_ctx\u001b[0m\u001b[0;34m)\u001b[0m\u001b[0;34m\u001b[0m\u001b[0;34m\u001b[0m\u001b[0m\n\u001b[0;32m--> 491\u001b[0;31m       \u001b[0mresult_value\u001b[0m \u001b[0;34m=\u001b[0m \u001b[0mautographed_fn\u001b[0m\u001b[0;34m(\u001b[0m\u001b[0melems_value\u001b[0m\u001b[0;34m)\u001b[0m\u001b[0;34m\u001b[0m\u001b[0;34m\u001b[0m\u001b[0m\n\u001b[0m\u001b[1;32m    492\u001b[0m       \u001b[0mnest\u001b[0m\u001b[0;34m.\u001b[0m\u001b[0massert_same_structure\u001b[0m\u001b[0;34m(\u001b[0m\u001b[0mfn_output_signature\u001b[0m \u001b[0;32mor\u001b[0m \u001b[0melems\u001b[0m\u001b[0;34m,\u001b[0m \u001b[0mresult_value\u001b[0m\u001b[0;34m)\u001b[0m\u001b[0;34m\u001b[0m\u001b[0;34m\u001b[0m\u001b[0m\n\u001b[1;32m    493\u001b[0m       \u001b[0mresult_value_flat\u001b[0m \u001b[0;34m=\u001b[0m \u001b[0mnest\u001b[0m\u001b[0;34m.\u001b[0m\u001b[0mflatten\u001b[0m\u001b[0;34m(\u001b[0m\u001b[0mresult_value\u001b[0m\u001b[0;34m)\u001b[0m\u001b[0;34m\u001b[0m\u001b[0;34m\u001b[0m\u001b[0m\n",
      "\u001b[0;32m~/.local/lib/python3.8/site-packages/tensorflow/python/autograph/impl/api.py\u001b[0m in \u001b[0;36mwrapper\u001b[0;34m(*args, **kwargs)\u001b[0m\n\u001b[1;32m    693\u001b[0m       \u001b[0;32mexcept\u001b[0m \u001b[0mException\u001b[0m \u001b[0;32mas\u001b[0m \u001b[0me\u001b[0m\u001b[0;34m:\u001b[0m  \u001b[0;31m# pylint:disable=broad-except\u001b[0m\u001b[0;34m\u001b[0m\u001b[0;34m\u001b[0m\u001b[0m\n\u001b[1;32m    694\u001b[0m         \u001b[0;32mif\u001b[0m \u001b[0mhasattr\u001b[0m\u001b[0;34m(\u001b[0m\u001b[0me\u001b[0m\u001b[0;34m,\u001b[0m \u001b[0;34m'ag_error_metadata'\u001b[0m\u001b[0;34m)\u001b[0m\u001b[0;34m:\u001b[0m\u001b[0;34m\u001b[0m\u001b[0;34m\u001b[0m\u001b[0m\n\u001b[0;32m--> 695\u001b[0;31m           \u001b[0;32mraise\u001b[0m \u001b[0me\u001b[0m\u001b[0;34m.\u001b[0m\u001b[0mag_error_metadata\u001b[0m\u001b[0;34m.\u001b[0m\u001b[0mto_exception\u001b[0m\u001b[0;34m(\u001b[0m\u001b[0me\u001b[0m\u001b[0;34m)\u001b[0m\u001b[0;34m\u001b[0m\u001b[0;34m\u001b[0m\u001b[0m\n\u001b[0m\u001b[1;32m    696\u001b[0m         \u001b[0;32melse\u001b[0m\u001b[0;34m:\u001b[0m\u001b[0;34m\u001b[0m\u001b[0;34m\u001b[0m\u001b[0m\n\u001b[1;32m    697\u001b[0m           \u001b[0;32mraise\u001b[0m\u001b[0;34m\u001b[0m\u001b[0;34m\u001b[0m\u001b[0m\n",
      "\u001b[0;31mKeyError\u001b[0m: in user code:\n\n    /host/04 - Plovila Detection/train/06 automl efficientdet/tmp_utils/visualize/vis_utils.py:499 draw_boxes  *\n        image_with_boxes = tf.py_func(visualize_boxes_fn, image_and_detections[2:],\n    /home/zverko/.local/lib/python3.8/site-packages/tensorflow/python/util/deprecation.py:346 new_func  **\n        return func(*args, **kwargs)\n    /home/zverko/.local/lib/python3.8/site-packages/tensorflow/python/util/dispatch.py:206 wrapper\n        return target(*args, **kwargs)\n    /home/zverko/.local/lib/python3.8/site-packages/tensorflow/python/ops/script_ops.py:665 py_func\n        return py_func_common(func, inp, Tout, stateful, name=name)\n    /home/zverko/.local/lib/python3.8/site-packages/tensorflow/python/ops/script_ops.py:626 py_func_common\n        result = func(*[np.array(x) for x in inp])\n    /host/04 - Plovila Detection/train/06 automl efficientdet/tmp_utils/visualize/vis_utils.py:379 visualization_py_func_fn\n        return visualize_boxes_and_labels_on_image_array(\n    /host/04 - Plovila Detection/train/06 automl efficientdet/tmp_utils/visualize/vis_utils.py:862 visualize_boxes_and_labels_on_image_array\n        class_name = category_index[classes[i]]['name']\n\n    KeyError: 'name'\n"
     ]
    }
   ],
   "source": [
    "for images,labels in val_dataset.take(1):\n",
    "  \n",
    "    print(images[i].shape)\n",
    "    print(labels['groundtruth_data'][:].shape)\n",
    "    boxes = labels['groundtruth_data'][:,:,:4].numpy()\n",
    "    confidence = labels['groundtruth_data'][:,:,5].numpy()\n",
    "    \n",
    "    classes = labels['groundtruth_data'][:,:,6].numpy()\n",
    "    print(im.shape,boxes.shape,confidence.shape,classes.shape)\n",
    "    draw_bounding_boxes_on_image_tensors(images,\n",
    "                                        boxes,\n",
    "                                        classes,\n",
    "                                        confidence,\n",
    "                                        cl_dict)\n",
    "    break"
   ]
  },
  {
   "cell_type": "code",
   "execution_count": 50,
   "id": "d1ec52a1",
   "metadata": {},
   "outputs": [
    {
     "name": "stdout",
     "output_type": "stream",
     "text": [
      "dict_keys(['mean_num_positives', 'cls_targets_3', 'box_targets_3', 'cls_targets_4', 'box_targets_4', 'cls_targets_5', 'box_targets_5', 'cls_targets_6', 'box_targets_6', 'cls_targets_7', 'box_targets_7', 'source_ids', 'groundtruth_data', 'image_scales', 'image_masks'])\n"
     ]
    }
   ],
   "source": [
    "print(labels.keys())"
   ]
  },
  {
   "cell_type": "code",
   "execution_count": 51,
   "id": "9f9250cf",
   "metadata": {},
   "outputs": [
    {
     "name": "stdout",
     "output_type": "stream",
     "text": [
      "tf.Tensor([1.3333334 1.3333334 1.3333334 1.3333334], shape=(4,), dtype=float32)\n"
     ]
    }
   ],
   "source": [
    "print(labels['image_scales'])"
   ]
  },
  {
   "cell_type": "code",
   "execution_count": null,
   "id": "95927f6a",
   "metadata": {
    "scrolled": true
   },
   "outputs": [],
   "source": []
  },
  {
   "cell_type": "code",
   "execution_count": null,
   "id": "f7b88b0f",
   "metadata": {},
   "outputs": [],
   "source": [
    "#dir(model.layers[3].cells[1])"
   ]
  },
  {
   "cell_type": "code",
   "execution_count": null,
   "id": "80ac5f7b",
   "metadata": {},
   "outputs": [],
   "source": [
    "#dir(model.layers[3].cells[1].fnodes[0])"
   ]
  },
  {
   "cell_type": "code",
   "execution_count": null,
   "id": "2199b591",
   "metadata": {},
   "outputs": [],
   "source": [
    "config.as_dict().get('map_freq', None)"
   ]
  },
  {
   "cell_type": "code",
   "execution_count": null,
   "id": "42ca1b53",
   "metadata": {},
   "outputs": [],
   "source": [
    "config.as_dict().get('moving_average_decay', None)"
   ]
  },
  {
   "cell_type": "code",
   "execution_count": null,
   "id": "6a1a83ca",
   "metadata": {},
   "outputs": [],
   "source": [
    "model.summary()"
   ]
  },
  {
   "cell_type": "code",
   "execution_count": null,
   "id": "9aeb2148",
   "metadata": {},
   "outputs": [],
   "source": [
    "if None:\n",
    "  print('g')\n",
    "else:\n",
    "  print('b')"
   ]
  },
  {
   "cell_type": "code",
   "execution_count": null,
   "id": "79df6ed0",
   "metadata": {},
   "outputs": [],
   "source": []
  }
 ],
 "metadata": {
  "kernelspec": {
   "display_name": "Python 3 (ipykernel)",
   "language": "python",
   "name": "python3"
  },
  "language_info": {
   "codemirror_mode": {
    "name": "ipython",
    "version": 3
   },
   "file_extension": ".py",
   "mimetype": "text/x-python",
   "name": "python",
   "nbconvert_exporter": "python",
   "pygments_lexer": "ipython3",
   "version": "3.8.10"
  }
 },
 "nbformat": 4,
 "nbformat_minor": 5
}
